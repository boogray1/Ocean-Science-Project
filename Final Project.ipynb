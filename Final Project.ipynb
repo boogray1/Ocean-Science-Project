{
 "cells": [
  {
   "cell_type": "markdown",
   "metadata": {},
   "source": [
    "# Project 1"
   ]
  },
  {
   "cell_type": "code",
   "execution_count": 11,
   "metadata": {
    "scrolled": true
   },
   "outputs": [],
   "source": [
    "import numpy as np\n",
    "import matplotlib.pyplot as plt\n",
    "import glob\n",
    "import pandas as pd\n",
    "import csv\n",
    "import os\n",
    "from collections import Counter\n",
    "%matplotlib inline"
   ]
  },
  {
   "cell_type": "markdown",
   "metadata": {},
   "source": [
    "#### Import single CSV"
   ]
  },
  {
   "cell_type": "code",
   "execution_count": 12,
   "metadata": {
    "scrolled": true
   },
   "outputs": [
    {
     "name": "stdout",
     "output_type": "stream",
     "text": [
      "[[  0.       6.      11.854    6.      32.966    6.     264.7      6.    ]\n",
      " [  2.       2.      11.8493   2.      32.9652   2.     266.3      2.    ]\n",
      " [  4.       2.      11.8446   2.      32.9645   2.     268.3      2.    ]\n",
      " [  6.       2.      11.8455   2.      32.9647   2.     266.3      2.    ]\n",
      " [  8.       2.      11.8406   2.      32.9649   2.     269.8      2.    ]\n",
      " [ 10.       2.      11.6893   7.      33.0021   7.     270.4      2.    ]\n",
      " [ 12.       2.      11.4705   7.      33.0461   7.     269.2      2.    ]\n",
      " [ 14.       2.      11.3767   7.      33.0514   7.     262.8      2.    ]\n",
      " [ 16.       2.      11.1748   7.      33.0931   7.     263.9      2.    ]\n",
      " [ 18.       2.      11.0463   2.      33.1251   2.     258.1      2.    ]\n",
      " [ 20.       2.      10.9586   2.      33.163    2.     257.9      2.    ]\n",
      " [ 22.       2.      10.838    2.      33.2196   2.     254.8      2.    ]\n",
      " [ 24.       2.      10.791    2.      33.2325   2.     250.4      2.    ]\n",
      " [ 26.       2.      10.7681   2.      33.2377   2.     251.7      2.    ]\n",
      " [ 28.       2.      10.6856   2.      33.2607   2.     249.1      2.    ]\n",
      " [ 30.       2.      10.6294   2.      33.2721   2.     242.4      2.    ]\n",
      " [ 32.       2.      10.6024   2.      33.2763   2.     242.2      2.    ]\n",
      " [ 34.       2.      10.3731   2.      33.3114   2.     237.8      2.    ]\n",
      " [ 36.       2.      10.1699   2.      33.3517   2.     228.1      2.    ]\n",
      " [ 38.       2.      10.038    2.      33.3911   2.     219.1      2.    ]\n",
      " [ 40.       2.       9.8084   2.      33.4567   2.     210.4      2.    ]\n",
      " [ 42.       2.       9.6005   2.      33.452    2.     203.6      2.    ]\n",
      " [ 44.       2.       9.2598   2.      33.4535   2.     190.1      2.    ]\n",
      " [ 46.       2.       9.034    2.      33.4616   2.     179.2      2.    ]\n",
      " [ 48.       2.       9.0189   2.      33.4696   2.     171.3      2.    ]\n",
      " [ 50.       2.       8.9823   2.      33.4673   2.     173.9      2.    ]\n",
      " [ 52.       2.       8.933    2.      33.4658   2.     173.3      2.    ]\n",
      " [ 54.       2.       8.923    2.      33.4657   2.     172.9      2.    ]\n",
      " [ 56.       2.       8.8664   2.      33.469    2.     172.4      2.    ]\n",
      " [ 58.       2.       8.7818   2.      33.471    2.     172.9      2.    ]\n",
      " [ 60.       2.       8.7636   2.      33.4734   2.     172.4      2.    ]\n",
      " [ 62.       2.       8.6985   2.      33.481    2.     170.3      2.    ]\n",
      " [ 64.       2.       8.6855   2.      33.4853   2.     171.4      2.    ]\n",
      " [ 66.       2.       8.6635   2.      33.4867   2.     171.       2.    ]\n",
      " [ 68.       2.       8.6089   2.      33.498    2.     170.4      2.    ]\n",
      " [ 70.       2.       8.5229   2.      33.5263   2.     169.9      2.    ]\n",
      " [ 72.       2.       8.5154   2.      33.529    2.     168.7      2.    ]\n",
      " [ 74.       2.       8.4831   2.      33.5418   2.     165.8      2.    ]\n",
      " [ 76.       2.       8.4133   2.      33.5746   2.     165.3      2.    ]\n",
      " [ 78.       2.       8.406    2.      33.585    2.     163.3      2.    ]\n",
      " [ 80.       2.       8.3831   2.      33.5997   2.     160.8      2.    ]\n",
      " [ 82.       2.       8.3758   2.      33.6025   2.     159.9      2.    ]\n",
      " [ 84.       2.       8.3682   2.      33.606    2.     159.5      2.    ]\n",
      " [ 86.       2.       8.3613   2.      33.6096   2.     158.7      2.    ]\n",
      " [ 88.       2.       8.3597   2.      33.6116   2.     160.1      2.    ]\n",
      " [ 90.       2.       8.3588   2.      33.615    2.     160.3      2.    ]\n",
      " [ 92.       2.       8.3579   2.      33.6218   2.     159.1      2.    ]\n",
      " [ 94.       2.       8.349    2.      33.628    2.     159.9      2.    ]\n",
      " [ 96.       2.       8.3223   2.      33.6552   2.     159.8      2.    ]\n",
      " [ 98.       2.       8.338    2.      33.6933   2.     158.       2.    ]\n",
      " [100.       2.       8.3626   2.      33.7174   2.     152.       2.    ]\n",
      " [102.       2.       8.3137   2.      33.7516   2.     147.6      2.    ]\n",
      " [104.       2.       8.1815   2.      33.7996   2.     145.3      2.    ]\n",
      " [106.       2.       8.166    2.      33.8012   2.     141.1      2.    ]\n",
      " [108.       2.       8.1039   2.      33.818    2.     137.4      2.    ]\n",
      " [110.       2.       8.0778   2.      33.8297   2.     135.2      2.    ]\n",
      " [112.       2.       8.0644   2.      33.8372   2.     135.4      2.    ]\n",
      " [114.       2.       8.0356   2.      33.8719   2.     133.7      2.    ]\n",
      " [116.       2.       8.041    2.      33.8804   2.     128.7      2.    ]\n",
      " [118.       2.       8.0389   2.      33.8973   2.     125.       2.    ]\n",
      " [120.       2.       8.0002   2.      33.9185   2.     121.8      2.    ]\n",
      " [122.       2.       7.9676   2.      33.9243   2.     118.6      2.    ]\n",
      " [124.       2.       7.8862   2.      33.9291   2.     116.4      2.    ]\n",
      " [126.       2.       7.8712   2.      33.932    2.     116.3      2.    ]\n",
      " [128.       2.       7.8395   2.      33.9319   2.     115.1      2.    ]\n",
      " [130.       2.       7.8309   2.      33.9322   2.     115.5      2.    ]\n",
      " [132.       2.       7.8475   2.      33.9567   2.     114.3      2.    ]\n",
      " [134.       2.       7.8637   2.      33.9605   2.     109.6      2.    ]\n",
      " [136.       2.       7.8819   2.      33.9652   2.     105.4      2.    ]\n",
      " [138.       2.       7.8831   2.      33.9665   2.     104.9      2.    ]\n",
      " [140.       2.       7.8741   2.      33.965    2.     103.9      2.    ]\n",
      " [142.       2.       7.88     2.      33.9663   2.     104.4      2.    ]\n",
      " [144.       2.       7.8864   2.      33.9678   2.     103.6      2.    ]\n",
      " [146.       2.       7.8834   2.      33.9689   2.     104.5      2.    ]\n",
      " [148.       2.       7.8845   2.      33.9699   2.     104.3      2.    ]\n",
      " [150.       2.       7.883    2.      33.9713   2.     102.9      2.    ]\n",
      " [152.       2.       7.8826   2.      33.9716   2.     103.4      2.    ]\n",
      " [154.       2.       7.8799   2.      33.9719   2.     103.       2.    ]\n",
      " [156.       2.       7.8805   2.      33.9717   2.     103.5      2.    ]\n",
      " [158.       2.       7.8797   2.      33.9724   2.     102.5      2.    ]\n",
      " [160.       2.       7.8797   2.      33.9728   2.     102.8      2.    ]\n",
      " [162.       2.       7.8794   2.      33.9732   2.     103.1      2.    ]\n",
      " [164.       2.       7.8737   2.      33.9751   2.     103.3      2.    ]\n",
      " [166.       2.       7.8706   2.      33.976    2.     103.5      2.    ]\n",
      " [168.       2.       7.8688   2.      33.9763   2.     102.7      2.    ]\n",
      " [170.       2.       7.8606   2.      33.9775   2.     102.1      2.    ]\n",
      " [172.       2.       7.8549   2.      33.9788   2.     102.7      2.    ]\n",
      " [174.       2.       7.8507   2.      33.9791   2.     101.9      2.    ]\n",
      " [176.       2.       7.8287   2.      33.9824   2.     100.4      2.    ]\n",
      " [178.       2.       7.8183   2.      33.9842   2.     101.2      2.    ]\n",
      " [180.       2.       7.8128   2.      33.9852   2.     100.8      2.    ]\n",
      " [182.       2.       7.7944   2.      33.9873   2.     101.3      2.    ]\n",
      " [184.       2.       7.7704   2.      33.9897   2.     100.4      2.    ]\n",
      " [186.       2.       7.7327   2.      33.9945   2.     100.5      2.    ]\n",
      " [188.       2.       7.7022   2.      33.9995   2.     100.2      2.    ]\n",
      " [190.       2.       7.7002   2.      33.9999   2.     100.4      2.    ]\n",
      " [192.       2.       7.6973   2.      34.0005   2.     100.4      2.    ]\n",
      " [194.       2.       7.6899   2.      34.0016   2.      99.5      2.    ]\n",
      " [196.       2.       7.6844   2.      34.0024   2.     100.       2.    ]\n",
      " [198.       2.       7.6703   2.      34.005    2.      98.7      2.    ]]\n"
     ]
    }
   ],
   "source": [
    "data = np.genfromtxt('p17n_00001_00003_ct1.csv', delimiter = \",\" , skip_header = 20, skip_footer = 1)\n",
    "print(data)"
   ]
  },
  {
   "cell_type": "markdown",
   "metadata": {},
   "source": [
    "#### Graphing Temperature vs. Depth"
   ]
  },
  {
   "cell_type": "code",
   "execution_count": 16,
   "metadata": {
    "scrolled": true
   },
   "outputs": [
    {
     "data": {
      "text/plain": [
       "[<matplotlib.lines.Line2D at 0x1eb5c0ca0b8>]"
      ]
     },
     "execution_count": 16,
     "metadata": {},
     "output_type": "execute_result"
    },
    {
     "data": {
      "image/png": "[encoded data removed]",
      "text/plain": [
       "<Figure size 432x288 with 1 Axes>"
      ]
     },
     "metadata": {
      "needs_background": "light"
     },
     "output_type": "display_data"
    }
   ],
   "source": [
    "d = data[:,0] #parcing the depth data\n",
    "T = data[:,2] #parcing the Temperature data\n",
    "\n",
    "plt.xlabel('Depth')  \n",
    "plt.ylabel('Temperature') \n",
    "plt.plot(d,T)"
   ]
  },
  {
   "cell_type": "markdown",
   "metadata": {},
   "source": [
    "#### Graphing Salinity vs. Depth"
   ]
  },
  {
   "cell_type": "code",
   "execution_count": 17,
   "metadata": {
    "scrolled": true
   },
   "outputs": [
    {
     "data": {
      "text/plain": [
       "[<matplotlib.lines.Line2D at 0x1eb5c1a3780>]"
      ]
     },
     "execution_count": 17,
     "metadata": {},
     "output_type": "execute_result"
    },
    {
     "data": {
      "image/png": "[encoded data removed]",
      "text/plain": [
       "<Figure size 432x288 with 1 Axes>"
      ]
     },
     "metadata": {
      "needs_background": "light"
     },
     "output_type": "display_data"
    }
   ],
   "source": [
    "d = data[:,0]\n",
    "S = data[:,4]\n",
    "plt.xlabel('Depth')\n",
    "plt.ylabel('Salinity')\n",
    "plt.plot(d,S)"
   ]
  },
  {
   "cell_type": "code",
   "execution_count": 20,
   "metadata": {},
   "outputs": [
    {
     "name": "stdout",
     "output_type": "stream",
     "text": [
      "Average salinity: 33.66 ppm\n"
     ]
    }
   ],
   "source": [
    "s_average = np.average(data[:,4])\n",
    "print('Average salinity: %.2f ppm' % (s_average))"
   ]
  },
  {
   "cell_type": "code",
   "execution_count": 23,
   "metadata": {},
   "outputs": [
    {
     "name": "stdout",
     "output_type": "stream",
     "text": [
      "[[ 1.38316183e-311  1.38316221e-311  9.88131292e-324              nan]\n",
      " [ 6.95225254e-310  0.00000000e+000  3.50821346e-033  1.79990662e-307]\n",
      " [ 1.38316183e-311  1.38316221e-311  1.39804328e-076  1.39642638e-076]\n",
      " [ 1.08778690e-071  1.08539816e-071  2.40686192e-057  3.27485532e+179]\n",
      " [ 3.67057141e-062  3.11024461e+179  2.90850244e-033  3.59904864e+179]\n",
      " [ 3.66962188e-062  3.27738804e+179  8.89499305e+130  9.16667305e-072]\n",
      " [ 1.20737373e-153  5.63892005e-038  1.28195713e-153  3.31334600e-033]\n",
      " [ 1.28225190e-153  6.01347002e-154  1.15772159e+142  1.14305409e-071]\n",
      " [ 1.18295202e-076  6.75217580e-067  1.18295597e-076  5.88267555e-062]\n",
      " [ 3.57280234e-062  1.36966714e-071  3.57280788e-062  4.09310407e-086]\n",
      " [ 1.58901105e-047  3.84573531e-086  3.50896294e-033  3.64466191e-086]\n",
      " [ 5.15440637e-062  3.44359159e-086  3.85404510e-057  2.45789916e-154]\n",
      " [ 9.74149636e-072  1.39803697e-076  6.53088133e-038  9.16217509e-072]\n",
      " [ 4.08673899e-033  4.18106686e-062  1.39804329e-076  1.39803697e-076]\n",
      " [ 9.04923623e-043  1.21112104e-099  3.21493397e-057  1.21178726e-099]\n",
      " [ 5.63662386e-038  5.20461658e-090  7.10602768e-038  5.20270272e-090]\n",
      " [ 2.63750427e-061  1.04067774e-042  1.96757101e-062  2.17699579e-076]\n",
      " [ 4.58221367e-072  9.34430730e-067  5.53956170e-048  3.50669418e-033]\n",
      " [ 9.49187053e-259  6.12957140e-062  1.39642638e-076  4.27631967e-033]\n",
      " [ 1.39642641e-076  1.89894036e-052  1.08539815e-071  2.74322955e-057]\n",
      " [ 1.08539816e-071  5.60101427e-067  3.92197060e+179  2.40554568e-057]\n",
      " [ 3.43569183e+179  3.66962186e-062  3.27360390e+179  4.43974444e-038]\n",
      " [ 3.11277236e+179  8.89499312e+130  3.69536552e-057  1.20737373e-153]\n",
      " [ 4.01646582e-057  1.28195713e-153  8.97192654e-067  1.20766849e-153]\n",
      " [ 1.45136156e-047  9.14388683e+140  2.00701255e-052  1.18295137e-076]\n",
      " [ 9.05971068e-043  1.18295663e-076  5.88267555e-062  3.57280421e-062]\n",
      " [ 1.36966714e-071  3.57280788e-062  3.69095114e-086  2.17834121e-076]\n",
      " [ 3.84573531e-086  5.40126143e-062  3.44358544e-086  3.85404510e-057]\n",
      " [ 3.64466192e-086  5.15440637e-062  2.45790200e-154  4.18204545e-062]\n",
      " [ 1.39803697e-076  1.08800887e-071  9.16217509e-072  1.17687698e-047]\n",
      " [ 9.73480488e-072  1.17687698e-047  9.73480488e-072  4.84957940e-033]\n",
      " [ 1.21201137e-099  2.10693913e-052  1.21290782e-099  4.01148236e-057]\n",
      " [ 5.20651928e-090  5.63662386e-038  5.20651184e-090  4.02451214e-066]\n",
      " [ 2.17765995e-076  1.96757101e-062  2.52700092e-052  1.28977849e-057]\n",
      " [ 3.53791591e-057  4.58553864e-072  8.61259149e-067  9.49314083e-259]\n",
      " [ 1.45217172e-047  1.39642641e-076  3.93990461e-062  1.39642639e-076]\n",
      " [ 1.08778690e-071  1.08539817e-071  1.10872250e-047  7.11326541e-067]\n",
      " [ 6.77033496e-043  4.08278490e+179  2.40554568e-057  2.62524705e+179]\n",
      " [ 2.90850244e-033  3.59904864e+179  3.66962188e-062  3.27738804e+179]\n",
      " [ 8.89499305e+130  1.19987836e-071  1.20737373e-153  1.39838066e-076]\n",
      " [ 1.28195713e-153  5.88269420e-062  1.35712665e-153  3.53541949e-057]\n",
      " [ 8.18934407e+140  2.17765728e-076  1.18295138e-076  1.83119849e-076]\n",
      " [ 1.18295071e-076  5.63863946e-062  3.57280975e-062  1.69379797e-052]\n",
      " [ 3.57280232e-062  3.69095114e-086  3.69778846e-033  3.84573531e-086]\n",
      " [ 9.17106859e-072  3.44358544e-086  3.85404510e-057  5.05219720e-086]\n",
      " [ 9.34573927e-067  2.45790343e-154  1.13088291e-042  1.39803697e-076]\n",
      " [ 4.76076111e-038  9.16217509e-072  1.39804329e-076  1.39803697e-076]\n",
      " [ 1.39804329e-076  1.39803697e-076  1.08428914e-042  1.21112451e-099]\n",
      " [ 2.10693913e-052  1.21178813e-099  7.10602768e-038  5.20270272e-090]\n",
      " [ 4.01148236e-057  5.20651928e-090  4.02451214e-066  2.00359374e-076]\n",
      " [ 1.96757101e-062  6.53090818e-038  6.99190318e-077  1.39804329e-076]\n",
      " [ 6.99021643e-077  1.39804329e-076  9.49186551e-259  4.01709293e-057]\n",
      " [ 1.39642641e-076  7.71625670e-043  1.39642639e-076  1.39804328e-076]\n",
      " [ 1.39642638e-076  1.08778690e-071  1.08539816e-071  8.54646953e-072]\n",
      " [ 2.94942795e+179  2.40554568e-057  3.59905111e+179  8.54510962e-072]\n",
      " [ 4.08594575e+179  4.44089239e-038  2.95384273e+179  8.89499315e+130]\n",
      " [ 1.42693619e-071  1.20737373e-153  1.04032330e-042  1.28195713e-153]\n",
      " [ 5.34848591e-038  1.43171005e-153  7.48827798e-067  8.66754581e+140]\n",
      " [ 2.90314893e-057  1.18295071e-076  3.37796500e-057  1.18295334e-076]\n",
      " [ 1.02941594e-071  5.08075154e-067  1.08601392e-071  3.57280976e-062]\n",
      " [ 3.69095114e-086  2.10775812e-052  3.84573531e-086  4.46665288e-033]\n",
      " [ 3.44358544e-086  1.65743693e-047  4.04681486e-086  1.38294402e-047]\n",
      " [ 2.45790343e-154  7.11176780e-038  1.39803697e-076  4.27406573e-033]\n",
      " [ 9.16217509e-072  5.05464813e-038  9.73480488e-072  1.14284163e-071]\n",
      " [ 9.73480488e-072  2.08826493e-076  1.21245958e-099  3.21493397e-057]\n",
      " [ 1.21156577e-099  1.39736850e-076  1.21089429e-099  1.39736850e-076]\n",
      " [ 1.21089429e-099  4.02451214e-066  7.40333655e-038  1.96757101e-062]\n",
      " [ 2.63059810e-052  6.99190318e-077  1.39804329e-076  6.99021643e-077]\n",
      " [ 1.39804329e-076  9.49186551e-259  5.05923982e-038  1.39642642e-076]\n",
      " [ 7.26784119e-043  1.39642638e-076  1.39804328e-076  1.39642638e-076]\n",
      " [ 1.39804328e-076  1.39642638e-076  6.77033496e-043  3.59650362e+179]\n",
      " [ 2.40554568e-057  2.94877986e+179  1.30354290e-076  2.62395837e+179]\n",
      " [ 1.30354290e-076  2.62395837e+179  8.89499302e+130  9.94958324e-043]\n",
      " [ 1.20737373e-153  1.65983639e-076  1.28195713e-153  1.39804329e-076]\n",
      " [ 1.20737373e-153  1.39804329e-076  7.71112048e+140  3.85900407e-057]\n",
      " [ 1.18295599e-076  1.38240214e-047  1.18295399e-076  1.39804065e-076]\n",
      " [ 1.18295070e-076  1.39804065e-076  1.18295070e-076  3.69095114e-086]\n",
      " [ 4.46890983e-033  3.84573531e-086  9.34286989e-067  3.24250897e-086]\n",
      " [ 1.39804329e-076  3.24250590e-086  1.39804329e-076  2.45789773e-154]\n",
      " [ 4.67108200e-062  1.39803697e-076  1.31417976e-071  9.16217509e-072]\n",
      " [ 1.39804329e-076  1.39803697e-076  1.39804329e-076  1.39803697e-076]\n",
      " [ 4.46439341e-033  1.21179250e-099  3.21493397e-057  1.21201485e-099]\n",
      " [ 5.63662386e-038  5.20459419e-090  1.39736850e-076  1.21089429e-099]\n",
      " [ 4.02451214e-066  4.08373260e-033  1.96757101e-062  2.00292432e-076]\n",
      " [ 4.58221367e-072  8.61259149e-067  1.28977972e-057  3.50293560e-033]\n",
      " [ 9.49314579e-259  1.45029348e-047  1.39642640e-076  1.57212132e-076]\n",
      " [ 1.39642640e-076  1.08778690e-071  1.08539816e-071  3.85652941e-057]\n",
      " [ 7.11326533e-067  2.40561731e-057  3.27233507e+179  2.40554568e-057]\n",
      " [ 3.92258400e+179  1.30354290e-076  2.62395837e+179  2.90850244e-033]\n",
      " [ 3.59904864e+179  8.89499315e+130  2.17767180e-076  1.20737373e-153]\n",
      " [ 1.74585414e-076  1.28195713e-153  1.08481522e-042  1.28225190e-153]\n",
      " [ 4.08146691e-033  8.18934407e+140  4.42985371e-062  1.18295663e-076]\n",
      " [ 2.10937827e-052  1.18295597e-076  1.08516213e-042  3.57280973e-062]\n",
      " [ 5.88267555e-062  3.57280235e-062  3.69095114e-086  5.05463023e-038]\n",
      " [ 3.84573531e-086  2.09029278e-076  3.24250897e-086  1.39804329e-076]\n",
      " [ 3.24250590e-086  1.39804329e-076  2.45789773e-154  3.31486240e-033]\n",
      " [ 1.39803697e-076  9.17109460e-072  9.16217509e-072  1.39804329e-076]\n",
      " [ 1.39803697e-076  1.39804329e-076  1.39803697e-076  4.84957940e-033]\n",
      " [ 1.21134513e-099  3.21493397e-057  1.21224158e-099  1.39736850e-076]\n",
      " [ 1.21089429e-099  1.39736850e-076  1.21089429e-099  4.02451214e-066]\n",
      " [ 9.95310004e-043  1.96757101e-062  2.21583504e-052  6.99190318e-077]\n",
      " [ 1.39804329e-076  6.99021643e-077  1.39804329e-076  9.49186551e-259]\n",
      " [ 3.93612122e-062  1.39642642e-076  7.49405088e-067  1.39642639e-076]\n",
      " [ 1.39804328e-076  1.39642638e-076  1.39804328e-076  1.39642638e-076]\n",
      " [ 4.43700672e-038  4.08657643e+179  2.40554568e-057  2.78987008e+179]\n",
      " [ 1.30354290e-076  2.62395837e+179  1.30354290e-076  2.62395837e+179]\n",
      " [ 8.89499302e+130  1.79658744e-052  1.20737373e-153  1.45109638e-047]\n",
      " [ 1.28195713e-153  1.39804329e-076  1.20737373e-153  1.39804329e-076]\n",
      " [ 7.71112048e+140  6.38705080e-067  1.18295466e-076  7.49401703e-067]\n",
      " [ 1.18295203e-076  1.39804065e-076  1.18295070e-076  1.39804065e-076]\n",
      " [ 1.18295070e-076  3.69095114e-086  1.69135731e-052  3.84573531e-086]\n",
      " [ 1.72558827e-047  3.24250897e-086  1.39804329e-076  3.44358237e-086]\n",
      " [ 2.90192862e-057  2.45789916e-154  6.52631651e-038  1.39803697e-076]\n",
      " [ 2.58018903e-057  9.16217509e-072  5.05464813e-038  9.73480488e-072]\n",
      " [ 5.05464813e-038  9.73480488e-072  2.00190324e-076  1.21156665e-099]\n",
      " [ 3.21493397e-057  1.21179425e-099  5.63662386e-038  5.20459419e-090]\n",
      " [ 5.63662386e-038  5.20653431e-090  4.02451214e-066  2.10816914e-052]\n",
      " [ 1.96757101e-062  3.89490415e-033  1.55924651e-033  8.60680161e-067]\n",
      " [ 6.99528994e-077  1.39804329e-076  9.49186551e-259  5.05234319e-038]\n",
      " [ 1.39642639e-076  1.20009941e-071  1.39642641e-076  2.31819754e-052]\n",
      " [ 7.11326530e-067  1.08778690e-071  1.08539816e-071  1.03307113e-047]\n",
      " [ 2.62650841e+179  2.40554568e-057  2.79176470e+179  4.43630061e-038]\n",
      " [ 4.08784275e+179  3.67342009e-062  3.75987522e+179  8.89499312e+130]\n",
      " [ 5.34619899e-038  1.20737373e-153  7.40447994e-038  1.28195713e-153]\n",
      " [ 1.08481522e-042  1.28225190e-153  1.39804329e-076  7.71112048e+140]\n",
      " [ 4.91222855e-062  1.18295138e-076  1.38240214e-047  1.18295335e-076]\n",
      " [ 1.39804065e-076  1.18295070e-076  1.39804065e-076  1.18295070e-076]\n",
      " [ 3.69095114e-086  7.86210220e-067  3.84573531e-086  2.17833727e-076]\n",
      " [ 3.24250897e-086  1.39804329e-076  3.24250590e-086  1.39804329e-076]\n",
      " [ 2.45789773e-154  1.79947374e-307  1.38317199e-311  1.38316184e-311]\n",
      " [ 9.16217509e-072  1.39804329e-076  1.39803697e-076  1.39804329e-076]\n",
      " [ 1.39803697e-076  1.19877132e-071  1.21201050e-099  3.21493397e-057]\n",
      " [ 1.21111929e-099  1.39736850e-076  1.21089429e-099  1.39736850e-076]\n",
      " [ 1.21089429e-099  4.02451214e-066  7.41136760e-038  1.96757101e-062]\n",
      " [ 8.98351220e-067  6.99190318e-077  1.39804329e-076  6.99021643e-077]\n",
      " [ 1.39804329e-076  9.49186551e-259  1.65609949e-047  1.39642639e-076]\n",
      " [ 3.69659792e-057  1.39642639e-076  1.39804328e-076  1.39642638e-076]\n",
      " [ 1.39804328e-076  1.39642638e-076  3.67020593e-062  2.78923444e+179]\n",
      " [ 2.40554568e-057  4.08341061e+179  1.30354290e-076  2.62395837e+179]\n",
      " [ 1.30354290e-076  2.62395837e+179  8.89499302e+130  8.24315936e-067]\n",
      " [ 1.20737373e-153  1.31351823e-071  1.28195713e-153  1.39804329e-076]\n",
      " [ 1.20737373e-153  1.39804329e-076  7.71112048e+140  7.40444403e-038]\n",
      " [ 1.18295467e-076  1.38240214e-047  1.18295071e-076  5.88267555e-062]\n",
      " [ 3.57280417e-062  5.88267555e-062  3.57280417e-062  3.69095114e-086]\n",
      " [ 1.65814832e-076  3.84573531e-086  5.64351641e-038  5.05219719e-086]\n",
      " [ 9.34573927e-067  3.44359467e-086  2.90192862e-057  2.45789916e-154]\n",
      " [ 4.01335187e-057  1.39803697e-076  4.08523138e-033  9.16217509e-072]\n",
      " [ 2.58391802e-057  6.75072234e-067  2.90192864e-057  4.42415339e-062]\n",
      " [ 6.74350587e-067  1.21201137e-099  3.21493397e-057  1.21290694e-099]\n",
      " [ 7.25555893e-043  5.20747439e-090  3.21493640e-057  5.20174014e-090]\n",
      " [ 4.02451214e-066  3.12301281e-033  1.96757101e-062  7.11060638e-038]\n",
      " [ 4.58221367e-072  1.90139058e-052  4.58443322e-072  5.34963387e-038]\n",
      " [ 9.49441608e-259  7.49114175e-067  1.39642639e-076  9.95658262e-043]\n",
      " [ 1.39642638e-076  1.10872250e-047  7.11326541e-067  1.08778690e-071]\n",
      " [ 1.08539816e-071  8.54536410e-072  2.78796813e+179  2.40554568e-057]\n",
      " [ 2.94815663e+179  1.30354290e-076  2.62395837e+179  1.30354290e-076]\n",
      " [ 2.62395837e+179  8.89499302e+130  6.52055425e-038  1.20737373e-153]\n",
      " [ 7.87078990e-067  1.28195713e-153  1.39804329e-076  1.20737373e-153]\n",
      " [ 1.39804329e-076  7.71112048e+140  1.36922497e-071  1.18295466e-076]\n",
      " [ 9.05971068e-043  1.18295599e-076  1.39804065e-076  1.18295070e-076]\n",
      " [ 1.39804065e-076  1.18295070e-076  3.69095114e-086  8.60823917e-067]\n",
      " [ 3.84573531e-086  5.35540934e-038  3.24250897e-086  1.39804329e-076]\n",
      " [ 3.24250590e-086  1.39804329e-076  2.45789773e-154  1.72398356e-047]\n",
      " [ 1.39803697e-076  7.27134460e-043  9.16217509e-072  1.39804329e-076]\n",
      " [ 1.39803697e-076  1.39804329e-076  1.39803697e-076  7.70398286e-043]\n",
      " [ 1.21290347e-099  3.21493397e-057  1.21245960e-099  1.39736850e-076]\n",
      " [ 1.21089429e-099  1.39736850e-076  1.21089429e-099  4.02451214e-066]\n",
      " [ 2.52660266e-052  1.96757101e-062  1.45030082e-047  6.99190318e-077]\n",
      " [ 1.39804329e-076  6.99021643e-077  1.39804329e-076  9.49186551e-259]\n",
      " [ 1.51978536e-047  1.39642638e-076  8.97773334e-067  1.39642638e-076]\n",
      " [ 1.39804328e-076  1.39642638e-076  1.39804328e-076  1.39642638e-076]\n",
      " [ 8.54536410e-072  3.76239308e+179  2.40554568e-057  3.59778229e+179]\n",
      " [ 1.30354290e-076  2.62395837e+179  3.66962185e-062  3.27360390e+179]\n",
      " [ 8.89499305e+130  6.81674621e-038  1.20737373e-153  2.52579179e-052]\n",
      " [ 1.28195713e-153  6.38418692e-067  1.20795983e-153  6.37982337e-067]\n",
      " [ 9.62022786e+140  2.57955213e-057  1.18295599e-076  3.89111611e-033]\n",
      " [ 1.18295531e-076  1.39804065e-076  1.18295070e-076  5.35421656e-038]\n",
      " [ 3.57281348e-062  3.69095114e-086  1.38134451e-047  3.84573531e-086]\n",
      " [ 5.15058210e-062  3.44358544e-086  1.24689611e-047  3.44358545e-086]\n",
      " [ 1.08668149e-071  2.45789774e-154  1.51978955e-047  1.39803697e-076]\n",
      " [ 3.85404269e-057  9.16217509e-072  1.79577175e-052  9.73480488e-072]\n",
      " [ 7.11735174e-067  4.42415339e-062  9.15781348e-072  1.21223375e-099]\n",
      " [ 2.10693913e-052  1.21178814e-099  5.63662386e-038  5.20365410e-090]\n",
      " [ 5.63662386e-038  5.20651184e-090  4.02451214e-066  3.85591200e-057]\n",
      " [ 1.96757101e-062  2.08893809e-076  4.58221367e-072  8.61259149e-067]\n",
      " [ 4.58221804e-072  7.40790133e-038  9.49314083e-259  9.06322748e-043]\n",
      " [ 1.39642639e-076  2.74136507e-057  1.39642638e-076  8.61260270e-067]\n",
      " [ 7.11326544e-067  1.39804328e-076  1.39642638e-076  8.54536410e-072]\n",
      " [ 2.78986514e+179  2.40554568e-057  3.11277978e+179  2.40616798e-057]\n",
      " [ 2.62459651e+179  3.66962187e-062  3.27360390e+179  8.89499305e+130]\n",
      " [ 5.64582579e-038  1.20737373e-153  8.17169939e-043  1.28195713e-153]\n",
      " [ 1.39804329e-076  1.20737373e-153  1.39804329e-076  7.71112048e+140]\n",
      " [ 1.65555869e-047  1.18295267e-076  3.21865581e-057  1.18295138e-076]\n",
      " [ 1.39804065e-076  1.18295070e-076  1.39804065e-076  1.18295070e-076]\n",
      " [ 3.69095114e-086  1.12947954e-042  3.84573531e-086  6.38706780e-067]\n",
      " [ 3.24250897e-086  1.39804329e-076  3.24250590e-086  1.39804329e-076]\n",
      " [ 2.45789773e-154  1.38160555e-047  1.39803697e-076  4.08447613e-033]\n",
      " [ 9.16217509e-072  1.39804329e-076  1.39803697e-076  1.39804329e-076]\n",
      " [ 1.39803697e-076  2.63223100e-052  4.56335201e-072  1.79923686e-307]\n",
      " [ 1.38317028e-311  1.38312915e-311 -9.99000000e+002  5.00000000e+000]]\n"
     ]
    }
   ],
   "source": [
    "totalArray = np.ndarray(shape = (200,4))\n",
    "print(totalArray)"
   ]
  },
  {
   "cell_type": "code",
   "execution_count": null,
   "metadata": {},
   "outputs": [],
   "source": [
    "rowIndex = 0\n",
    "directory = 'C:\\\\Users\\\\Jessica\\\\Desktop\\\\Ocean Engineering'\n",
    "for filename in os.listdir(directory):\n",
    "    if filename.endswith(\".csv\"):\n",
    "        data = np.genfromtxt('C:\\\\Users\\\\Jessica\\\\Desktop\\\\Ocean Engineering\\\\' + filename , delimiter = ',', skip_header = 20, skip_footer = 1)\n",
    "        totalArray[rowIndex,0] = np.average(data[:,2])\n",
    "        Taverage = np.average(data[:,2])\n",
    "        totalArray[rowIndex,1] = np.average(data[:,4])\n",
    "        Saverage = np.average(data[:,4])\n",
    "        rowIndex = rowIndex + 1\n",
    "        continue\n",
    "    else:\n",
    "        continue"
   ]
  },
  {
   "cell_type": "code",
   "execution_count": 26,
   "metadata": {},
   "outputs": [
    {
     "name": "stdout",
     "output_type": "stream",
     "text": [
      "Average temperature: 4.43 deg Celsius.\n",
      "Average salinity: 33.62 ppm\n"
     ]
    }
   ],
   "source": [
    "Taverage = np.average(totalArray[:,0])\n",
    "print('Average temperature: %.2f deg Celsius.' %(Taverage))\n",
    "Saverage = np.average(totalArray[:,1])\n",
    "print('Average salinity: %.2f ppm' %(Saverage))"
   ]
  },
  {
   "cell_type": "code",
   "execution_count": 31,
   "metadata": {},
   "outputs": [
    {
     "data": {
      "text/plain": [
       "Text(0, 0.5, 'Average Temperature')"
      ]
     },
     "execution_count": 31,
     "metadata": {},
     "output_type": "execute_result"
    },
    {
     "data": {
      "image/png": "[encoded data removed]",
      "text/plain": [
       "<Figure size 432x288 with 1 Axes>"
      ]
     },
     "metadata": {
      "needs_background": "light"
     },
     "output_type": "display_data"
    }
   ],
   "source": [
    "x = range(0, rowIndex)\n",
    "y = totalArray[:,0]\n",
    "plt.plot(x,y)\n",
    "plt.xlabel('Location')\n",
    "plt.ylabel('Average Temperature')"
   ]
  },
  {
   "cell_type": "code",
   "execution_count": 30,
   "metadata": {},
   "outputs": [
    {
     "data": {
      "text/plain": [
       "Text(0, 0.5, 'Average Salinity')"
      ]
     },
     "execution_count": 30,
     "metadata": {},
     "output_type": "execute_result"
    },
    {
     "data": {
      "image/png": "[encoded data removed]",
      "text/plain": [
       "<Figure size 432x288 with 1 Axes>"
      ]
     },
     "metadata": {
      "needs_background": "light"
     },
     "output_type": "display_data"
    }
   ],
   "source": [
    "x = range(0,rowIndex)\n",
    "y = totalArray[:,1]\n",
    "plt.plot(x,y)\n",
    "plt.xlabel('Location')\n",
    "plt.ylabel('Average Salinity')"
   ]
  },
  {
   "cell_type": "code",
   "execution_count": null,
   "metadata": {},
   "outputs": [],
   "source": []
  }
 ],
 "metadata": {
  "kernelspec": {
   "display_name": "Python 3",
   "language": "python",
   "name": "python3"
  },
  "language_info": {
   "codemirror_mode": {
    "name": "ipython",
    "version": 3
   },
   "file_extension": ".py",
   "mimetype": "text/x-python",
   "name": "python",
   "nbconvert_exporter": "python",
   "pygments_lexer": "ipython3",
   "version": "3.7.1"
  }
 },
 "nbformat": 4,
 "nbformat_minor": 2
}
